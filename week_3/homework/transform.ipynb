{
 "cells": [
  {
   "cell_type": "code",
   "execution_count": 17,
   "metadata": {},
   "outputs": [],
   "source": [
    "from pathlib import Path\n",
    "import pandas as pd\n",
    "import pyarrow\n",
    "import os \n",
    "import pyarrow.parquet as pq\n",
    "import pyarrow as pa\n"
   ]
  },
  {
   "cell_type": "code",
   "execution_count": 8,
   "metadata": {},
   "outputs": [],
   "source": [
    "dataset_url = f'https://github.com/DataTalksClub/nyc-tlc-data/releases/download/fhv/fhv_tripdata_2019-05.csv.gz'"
   ]
  },
  {
   "cell_type": "code",
   "execution_count": 7,
   "metadata": {},
   "outputs": [],
   "source": [
    "path = '/Users/og/Desktop/data-engineering-course/week_3/data/fhv_tripdata_2019-01.csv'"
   ]
  },
  {
   "cell_type": "code",
   "execution_count": 11,
   "metadata": {},
   "outputs": [],
   "source": [
    "path_2 = '/Users/og/Desktop/data-engineering-course/week_3/data/fhv_tripdata_2020-01.csv'"
   ]
  },
  {
   "cell_type": "code",
   "execution_count": 9,
   "metadata": {},
   "outputs": [],
   "source": [
    "file = '/Users/og/Desktop/data-engineering-course/week_3/data/fhv_tripdata_2019-01.csv.gz'"
   ]
  },
  {
   "cell_type": "code",
   "execution_count": 10,
   "metadata": {},
   "outputs": [],
   "source": [
    "dd = pd.read_csv(dataset_url)"
   ]
  },
  {
   "cell_type": "code",
   "execution_count": 11,
   "metadata": {},
   "outputs": [
    {
     "data": {
      "text/html": [
       "<div>\n",
       "<style scoped>\n",
       "    .dataframe tbody tr th:only-of-type {\n",
       "        vertical-align: middle;\n",
       "    }\n",
       "\n",
       "    .dataframe tbody tr th {\n",
       "        vertical-align: top;\n",
       "    }\n",
       "\n",
       "    .dataframe thead th {\n",
       "        text-align: right;\n",
       "    }\n",
       "</style>\n",
       "<table border=\"1\" class=\"dataframe\">\n",
       "  <thead>\n",
       "    <tr style=\"text-align: right;\">\n",
       "      <th></th>\n",
       "      <th>dispatching_base_num</th>\n",
       "      <th>pickup_datetime</th>\n",
       "      <th>dropOff_datetime</th>\n",
       "      <th>PUlocationID</th>\n",
       "      <th>DOlocationID</th>\n",
       "      <th>SR_Flag</th>\n",
       "      <th>Affiliated_base_number</th>\n",
       "    </tr>\n",
       "  </thead>\n",
       "  <tbody>\n",
       "    <tr>\n",
       "      <th>0</th>\n",
       "      <td>B00013</td>\n",
       "      <td>2019-05-01 00:27:47</td>\n",
       "      <td>2019-05-02 01:07:35</td>\n",
       "      <td>264</td>\n",
       "      <td>264</td>\n",
       "      <td>NaN</td>\n",
       "      <td>B00013</td>\n",
       "    </tr>\n",
       "    <tr>\n",
       "      <th>1</th>\n",
       "      <td>B00014</td>\n",
       "      <td>2019-05-01 00:12:37</td>\n",
       "      <td>2019-05-02 00:42:40</td>\n",
       "      <td>264</td>\n",
       "      <td>264</td>\n",
       "      <td>NaN</td>\n",
       "      <td>B00014</td>\n",
       "    </tr>\n",
       "    <tr>\n",
       "      <th>2</th>\n",
       "      <td>B00014</td>\n",
       "      <td>2019-05-01 00:28:27</td>\n",
       "      <td>2019-05-01 00:35:16</td>\n",
       "      <td>264</td>\n",
       "      <td>264</td>\n",
       "      <td>NaN</td>\n",
       "      <td>B00014</td>\n",
       "    </tr>\n",
       "    <tr>\n",
       "      <th>3</th>\n",
       "      <td>B00014</td>\n",
       "      <td>2019-05-01 00:01:04</td>\n",
       "      <td>2019-05-01 00:04:28</td>\n",
       "      <td>264</td>\n",
       "      <td>264</td>\n",
       "      <td>NaN</td>\n",
       "      <td>B00014</td>\n",
       "    </tr>\n",
       "    <tr>\n",
       "      <th>4</th>\n",
       "      <td>B00014</td>\n",
       "      <td>2019-05-01 00:33:37</td>\n",
       "      <td>2019-05-01 00:37:43</td>\n",
       "      <td>264</td>\n",
       "      <td>264</td>\n",
       "      <td>NaN</td>\n",
       "      <td>B00014</td>\n",
       "    </tr>\n",
       "    <tr>\n",
       "      <th>...</th>\n",
       "      <td>...</td>\n",
       "      <td>...</td>\n",
       "      <td>...</td>\n",
       "      <td>...</td>\n",
       "      <td>...</td>\n",
       "      <td>...</td>\n",
       "      <td>...</td>\n",
       "    </tr>\n",
       "    <tr>\n",
       "      <th>2073040</th>\n",
       "      <td>B03171</td>\n",
       "      <td>2019-05-31 23:13:30</td>\n",
       "      <td>2019-05-31 23:24:53</td>\n",
       "      <td>264</td>\n",
       "      <td>265</td>\n",
       "      <td>NaN</td>\n",
       "      <td>B03171</td>\n",
       "    </tr>\n",
       "    <tr>\n",
       "      <th>2073041</th>\n",
       "      <td>B03171</td>\n",
       "      <td>2019-05-31 23:57:51</td>\n",
       "      <td>2019-06-01 00:04:33</td>\n",
       "      <td>264</td>\n",
       "      <td>265</td>\n",
       "      <td>NaN</td>\n",
       "      <td>B03171</td>\n",
       "    </tr>\n",
       "    <tr>\n",
       "      <th>2073042</th>\n",
       "      <td>B03177</td>\n",
       "      <td>2019-05-31 23:02:01</td>\n",
       "      <td>2019-05-31 23:21:06</td>\n",
       "      <td>264</td>\n",
       "      <td>265</td>\n",
       "      <td>NaN</td>\n",
       "      <td>B03177</td>\n",
       "    </tr>\n",
       "    <tr>\n",
       "      <th>2073043</th>\n",
       "      <td>B03186</td>\n",
       "      <td>2019-05-31 23:37:27</td>\n",
       "      <td>2019-05-31 23:46:23</td>\n",
       "      <td>264</td>\n",
       "      <td>265</td>\n",
       "      <td>NaN</td>\n",
       "      <td>B03186</td>\n",
       "    </tr>\n",
       "    <tr>\n",
       "      <th>2073044</th>\n",
       "      <td>B03188</td>\n",
       "      <td>2019-05-31 23:12:40</td>\n",
       "      <td>2019-05-31 23:50:14</td>\n",
       "      <td>264</td>\n",
       "      <td>171</td>\n",
       "      <td>NaN</td>\n",
       "      <td>B03188</td>\n",
       "    </tr>\n",
       "  </tbody>\n",
       "</table>\n",
       "<p>2073045 rows × 7 columns</p>\n",
       "</div>"
      ],
      "text/plain": [
       "        dispatching_base_num      pickup_datetime     dropOff_datetime  \\\n",
       "0                     B00013  2019-05-01 00:27:47  2019-05-02 01:07:35   \n",
       "1                     B00014  2019-05-01 00:12:37  2019-05-02 00:42:40   \n",
       "2                     B00014  2019-05-01 00:28:27  2019-05-01 00:35:16   \n",
       "3                     B00014  2019-05-01 00:01:04  2019-05-01 00:04:28   \n",
       "4                     B00014  2019-05-01 00:33:37  2019-05-01 00:37:43   \n",
       "...                      ...                  ...                  ...   \n",
       "2073040               B03171  2019-05-31 23:13:30  2019-05-31 23:24:53   \n",
       "2073041               B03171  2019-05-31 23:57:51  2019-06-01 00:04:33   \n",
       "2073042               B03177  2019-05-31 23:02:01  2019-05-31 23:21:06   \n",
       "2073043               B03186  2019-05-31 23:37:27  2019-05-31 23:46:23   \n",
       "2073044      B03188           2019-05-31 23:12:40  2019-05-31 23:50:14   \n",
       "\n",
       "         PUlocationID  DOlocationID  SR_Flag Affiliated_base_number  \n",
       "0                 264           264      NaN                 B00013  \n",
       "1                 264           264      NaN                 B00014  \n",
       "2                 264           264      NaN                 B00014  \n",
       "3                 264           264      NaN                 B00014  \n",
       "4                 264           264      NaN                 B00014  \n",
       "...               ...           ...      ...                    ...  \n",
       "2073040           264           265      NaN                 B03171  \n",
       "2073041           264           265      NaN                 B03171  \n",
       "2073042           264           265      NaN                 B03177  \n",
       "2073043           264           265      NaN                 B03186  \n",
       "2073044           264           171      NaN        B03188           \n",
       "\n",
       "[2073045 rows x 7 columns]"
      ]
     },
     "execution_count": 11,
     "metadata": {},
     "output_type": "execute_result"
    }
   ],
   "source": [
    "dd\n"
   ]
  },
  {
   "cell_type": "code",
   "execution_count": 8,
   "metadata": {},
   "outputs": [],
   "source": [
    "df = pd.read_csv(path)"
   ]
  },
  {
   "cell_type": "code",
   "execution_count": 12,
   "metadata": {},
   "outputs": [],
   "source": [
    "df_2 = pd.read_csv(path_2)"
   ]
  },
  {
   "cell_type": "code",
   "execution_count": null,
   "metadata": {},
   "outputs": [],
   "source": [
    "df"
   ]
  },
  {
   "cell_type": "code",
   "execution_count": null,
   "metadata": {},
   "outputs": [],
   "source": [
    "df_2"
   ]
  },
  {
   "cell_type": "code",
   "execution_count": 13,
   "metadata": {},
   "outputs": [
    {
     "data": {
      "text/plain": [
       "dispatching_base_num       object\n",
       "pickup_datetime            object\n",
       "dropOff_datetime           object\n",
       "PUlocationID                int64\n",
       "DOlocationID                int64\n",
       "SR_Flag                   float64\n",
       "Affiliated_base_number     object\n",
       "dtype: object"
      ]
     },
     "execution_count": 13,
     "metadata": {},
     "output_type": "execute_result"
    }
   ],
   "source": [
    "dd.dtypes"
   ]
  },
  {
   "cell_type": "code",
   "execution_count": 15,
   "metadata": {},
   "outputs": [],
   "source": [
    "dd['PUlocationID'] = dd['PUlocationID'].astype(float)\n",
    "dd['DOlocationID'] = dd['DOlocationID'].astype(float)\n"
   ]
  },
  {
   "cell_type": "code",
   "execution_count": 16,
   "metadata": {},
   "outputs": [
    {
     "data": {
      "text/plain": [
       "dispatching_base_num       object\n",
       "pickup_datetime            object\n",
       "dropOff_datetime           object\n",
       "PUlocationID              float64\n",
       "DOlocationID              float64\n",
       "SR_Flag                   float64\n",
       "Affiliated_base_number     object\n",
       "dtype: object"
      ]
     },
     "execution_count": 16,
     "metadata": {},
     "output_type": "execute_result"
    }
   ],
   "source": [
    "dd.dtypes\n"
   ]
  },
  {
   "cell_type": "code",
   "execution_count": 18,
   "metadata": {},
   "outputs": [],
   "source": [
    "def write_modified_parquet(df, output_file):\n",
    "    table = pa.Table.from_pandas(df)\n",
    "    pq.write_table(table, output_file)"
   ]
  },
  {
   "cell_type": "code",
   "execution_count": null,
   "metadata": {},
   "outputs": [],
   "source": [
    "output_file_1 = 'gs://week_two_bucket/data/2019/fhv_tripdata_2019-05.parquet'\n",
    "write_modified_parquet(dd, output_file_1)"
   ]
  },
  {
   "cell_type": "code",
   "execution_count": 24,
   "metadata": {},
   "outputs": [],
   "source": [
    "df['pickup_datetime'] = pd.to_datetime(df['pickup_datetime'])\n"
   ]
  },
  {
   "cell_type": "code",
   "execution_count": 27,
   "metadata": {},
   "outputs": [],
   "source": [
    "df['dropOff_datetime'] = pd.to_datetime(df['dropOff_datetime'])\n"
   ]
  },
  {
   "cell_type": "code",
   "execution_count": 29,
   "metadata": {},
   "outputs": [
    {
     "data": {
      "text/plain": [
       "dispatching_base_num              object\n",
       "pickup_datetime           datetime64[ns]\n",
       "dropOff_datetime          datetime64[ns]\n",
       "PUlocationID                     float64\n",
       "DOlocationID                     float64\n",
       "SR_Flag                          float64\n",
       "Affiliated_base_number            object\n",
       "dtype: object"
      ]
     },
     "execution_count": 29,
     "metadata": {},
     "output_type": "execute_result"
    }
   ],
   "source": [
    "df.dtypes"
   ]
  },
  {
   "cell_type": "code",
   "execution_count": 14,
   "metadata": {},
   "outputs": [
    {
     "data": {
      "text/plain": [
       "dispatching_base_num       object\n",
       "pickup_datetime            object\n",
       "dropoff_datetime           object\n",
       "PULocationID              float64\n",
       "DOLocationID              float64\n",
       "SR_Flag                   float64\n",
       "Affiliated_base_number     object\n",
       "dtype: object"
      ]
     },
     "execution_count": 14,
     "metadata": {},
     "output_type": "execute_result"
    }
   ],
   "source": [
    "df_2.dtypes"
   ]
  },
  {
   "cell_type": "code",
   "execution_count": null,
   "metadata": {},
   "outputs": [],
   "source": [
    "# prefect deployment build etl_to_bq:etl_web_to_gcs --name de-wk-3-hw-1 -a "
   ]
  }
 ],
 "metadata": {
  "kernelspec": {
   "display_name": "airflow_env",
   "language": "python",
   "name": "python3"
  },
  "language_info": {
   "codemirror_mode": {
    "name": "ipython",
    "version": 3
   },
   "file_extension": ".py",
   "mimetype": "text/x-python",
   "name": "python",
   "nbconvert_exporter": "python",
   "pygments_lexer": "ipython3",
   "version": "3.9.16"
  },
  "orig_nbformat": 4,
  "vscode": {
   "interpreter": {
    "hash": "b25d3995139adceb26208d39503cb960dd191cd3cda38c4187d0ae95bd9d1815"
   }
  }
 },
 "nbformat": 4,
 "nbformat_minor": 2
}
